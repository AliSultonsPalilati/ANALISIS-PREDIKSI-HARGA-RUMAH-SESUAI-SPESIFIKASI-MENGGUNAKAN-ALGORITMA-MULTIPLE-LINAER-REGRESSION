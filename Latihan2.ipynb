{
 "cells": [
  {
   "cell_type": "code",
   "execution_count": 4,
   "metadata": {},
   "outputs": [
    {
     "name": "stdout",
     "output_type": "stream",
     "text": [
      "\n",
      "Detail Perhitungan:\n",
      "Intercept: Rp -775,923,911.94\n",
      "LUAS_BANGUNAN: 250 × Rp 12,285,254.07 = Rp 3,071,313,517.59\n",
      "LUAS_TANAH: 250 × Rp 23,268,141.95 = Rp 5,817,035,487.96\n",
      "KAMAR_TIDUR: 7 × Rp -638,754,626.47 = Rp -4,471,282,385.32\n",
      "KAMAR_MANDI: 7 × Rp 556,618,859.45 = Rp 3,896,332,016.16\n",
      "GARASI: 4 × Rp 247,983,447.74 = Rp 991,933,790.95\n",
      "\n",
      "Prediksi Harga: Rp 8,529,408,515.41\n"
     ]
    }
   ],
   "source": [
    "# Proses perhitungan manual untuk metode multiple linaer regression\n",
    "\n",
    "# Nilai variabel X\n",
    "x_values = {\n",
    "    'LUAS_BANGUNAN': 250,\n",
    "    'LUAS_TANAH': 250,\n",
    "    'KAMAR_TIDUR': 7,\n",
    "    'KAMAR_MANDI': 7,\n",
    "    'GARASI': 4\n",
    "}\n",
    "\n",
    "# Nilai koefisien\n",
    "coefficients = {\n",
    "    'intercept': -775923911.9377851,\n",
    "    'LUAS_BANGUNAN': 12285254.07036815,\n",
    "    'LUAS_TANAH': 23268141.951857887,\n",
    "    'KAMAR_TIDUR': -638754626.4738376,\n",
    "    'KAMAR_MANDI': 556618859.4511906,\n",
    "    'GARASI': 247983447.7381631\n",
    "}\n",
    "\n",
    "# Menghitung prediksi harga\n",
    "predicted_price = coefficients['intercept']  # Mulai dengan intercept\n",
    "\n",
    "# Menambahkan hasil perkalian setiap variabel dengan koefisiennya\n",
    "for feature in x_values:\n",
    "    predicted_price += x_values[feature] * coefficients[feature]\n",
    "\n",
    "# Menampilkan perhitungan detail\n",
    "print(\"\\nDetail Perhitungan:\")\n",
    "print(f\"Intercept: Rp {coefficients['intercept']:,.2f}\")\n",
    "for feature in x_values:\n",
    "    contribution = x_values[feature] * coefficients[feature]\n",
    "    print(f\"{feature}: {x_values[feature]} × Rp {coefficients[feature]:,.2f} = Rp {contribution:,.2f}\")\n",
    "\n",
    "# Menampilkan hasil dengan format yang mudah dibaca\n",
    "print(f\"\\nPrediksi Harga: Rp {predicted_price:,.2f}\")"
   ]
  }
 ],
 "metadata": {
  "kernelspec": {
   "display_name": "Python 3",
   "language": "python",
   "name": "python3"
  },
  "language_info": {
   "codemirror_mode": {
    "name": "ipython",
    "version": 3
   },
   "file_extension": ".py",
   "mimetype": "text/x-python",
   "name": "python",
   "nbconvert_exporter": "python",
   "pygments_lexer": "ipython3",
   "version": "3.12.7"
  }
 },
 "nbformat": 4,
 "nbformat_minor": 2
}
